{
 "cells": [
  {
   "cell_type": "markdown",
   "metadata": {},
   "source": [
    "# Ingeniería Mecatrónica - Proyecto de Ingeniería II\n",
    "\n",
    "### David Rozo Osorio, I.M, M.Sc."
   ]
  },
  {
   "cell_type": "markdown",
   "metadata": {},
   "source": [
    "## Práctica No. 1 - Microcontroladores\n",
    "\n",
    "- Objetivo: diseñar e implementar código sobre el microcontrolador Raspberry Pi Pico\n",
    "\n",
    "\n",
    "- Procedimiento:\n",
    "  1. IDE - Thonny.\n",
    "  1. Configuración inicial y especificaciones técnicas.\n",
    "  1. Primer programa - *Blink*.\n",
    "  1. Entradas y Salidas Digitales.\n",
    "  1. Entradas y Salidas Análogas.\n",
    "  1. Multihilos.\n",
    "  1. Interrupciones.\n",
    "  1. Ejecución."
   ]
  },
  {
   "cell_type": "markdown",
   "metadata": {},
   "source": [
    "### IDE - Thonny\n",
    "\n",
    "\n",
    "![Thonny](./Graph/01_Thonny_Window.png)\n",
    "\n",
    "Página web oficial: https://thonny.org/\n",
    "\n",
    "### Configuración inicial\n",
    "\n",
    "Para que el microcontrolador Raspberry Pi Pico funcione con **Micropython** se debe cargar el *firmware* de MicroPython más reciente en el *board*. Este procedimiento se realiza por medio del siguiente procedimiento en el programa Thonny:\n",
    "\n",
    "1. Menú *Herramientas* -> Opciones\n",
    "1. Pestaña Interprete\n",
    "1. Parte inferior enlace \"Instalar o actualizar MicroPython\"\n",
    "1. Seguir el procedimiento para que la tarjeta entre en modo *Boot*.\n",
    "1. Seleccionar la tarjeta correspondiente.\n",
    "1. Seleccionar el *firmware* y la versión.\n",
    "1. Dar clic en el botón \"intalar\".\n",
    "\n",
    "\n",
    "![ThonnyFirmware](./Graph/02_Thonny_Config_uPython.png)"
   ]
  },
  {
   "cell_type": "markdown",
   "metadata": {},
   "source": [
    "### Microcontrolador Pinout \n",
    "\n",
    "\n",
    "![02_Pinout_Full.png](./Graph/02_Pinout_Full.png)"
   ]
  },
  {
   "cell_type": "markdown",
   "metadata": {},
   "source": [
    "### Programa Blink\n",
    "\n",
    "El presente código permite generar una operación con el **LED** interno que se encuentra en la placa.\n",
    "\n",
    "```python\n",
    "# libreria machine interaccion hardware\n",
    "import machine\n",
    "# libreria para el manejo de tiempo\n",
    "import utime\n",
    "\n",
    "# instacia objeto led, Clase Pin --> keyword: Pin.OUT\n",
    "led = machine.Pin(25, machine.Pin.OUT) # LED conectado a este puerto 25-(built-in)\n",
    "\n",
    "# ciclo infinito de ejecucion\n",
    "while True:\n",
    "    # accion sobre el objeto equivalente a asigancion\n",
    "    led.on()\n",
    "    # delay en segundos\n",
    "    utime.sleep(1)\n",
    "    led.off()\n",
    "    utime.sleep(1)\n",
    "```\n",
    "El programa debe ser guardado con el nombre de `main.py` para que el *bootloader* lo ejecute cuando se energice el microcontrolador.\n"
   ]
  },
  {
   "cell_type": "markdown",
   "metadata": {},
   "source": [
    "### Programa para variables ADC y Señal PWM\n",
    "\n",
    "El presente código permite desarrollar operaciones con los pines de conversión Análogo/Digital. Adicionalmente, se definirá una señal PWM para controlar la luminosidad de un LED.\n",
    "\n",
    "**Nota.** El convertidor ADC es de 12 bits, sin embargo, MicroPython internamente lo convierte a 16 bits.\n",
    "\n",
    "<img src=\"./Graph/motor_wiring.png\" width=800 />\n",
    "\n",
    "```python\n",
    "# libreria machine interaccion hardware\n",
    "import machine\n",
    "# libreria para el manejo de tiempo\n",
    "import utime\n",
    "\n",
    "# instacia objeto led, Clase Pin --> keyword: Pin.OUT\n",
    "led = machine.Pin(25, machine.Pin.OUT) # LED conectado a este puerto 25-(built-in)\n",
    "\n",
    "potenciometro = machine.ADC(27) # al pin 26 esta conectado un potenciometro\n",
    "frecuencia = 1000\n",
    "u16cf = (65535)\n",
    "conversion_factor = 100/ u16cf\n",
    "\n",
    "pwm_m2 = machine.PWM(machine.Pin(11))\n",
    "pwm_m2.freq(frecuencia)\n",
    "\n",
    "BIn1 = machine.Pin(12, machine.Pin.OUT)\n",
    "BIn2 = machine.Pin(13, machine.Pin.OUT)\n",
    "\n",
    "BIn1.on()\n",
    "BIn2.off()\n",
    "\n",
    "while True:\n",
    "    led.toggle()\n",
    "    speed = potenciometro.read_u16()*conversion_factor\n",
    "    print(speed)\n",
    "    pwm_m2.duty_u16(int(speed * u16cf/100))\n",
    "    utime.sleep(0.5)\n",
    "```\n",
    "El programa debe ser guardado con el nombre de `main.py` para que el *bootloader* lo ejecute cuando se energice el microcontrolador."
   ]
  },
  {
   "cell_type": "markdown",
   "metadata": {},
   "source": [
    "### Actividad de clase\n",
    "\n",
    "Por Equipos de Trabajo, desarrollar un código que permita mover el motor DC en ambas direcciones (horario y antihorario) a partir del movimiento del potenciómetro."
   ]
  },
  {
   "cell_type": "markdown",
   "metadata": {},
   "source": [
    "### Función Extra\n",
    "```python\n",
    "def map(x, in_min, in_max, out_min, out_max):\n",
    "  return (x - in_min) * (out_max - out_min) / (in_max - in_min) + out_min\n",
    "```"
   ]
  },
  {
   "cell_type": "markdown",
   "metadata": {},
   "source": [
    "## Material de Referencia\n",
    "\n",
    "- [Raspberry Pi Pico Python SDK](https://datasheets.raspberrypi.com/pico/raspberry-pi-pico-python-sdk.pdf)\n",
    "- [Get Started with MicroPython on Raspberry Pi Pico](https://hackspace.raspberrypi.com/downloads/eyJfcmFpbHMiOnsibWVzc2FnZSI6IkJBaHBBaThSIiwiZXhwIjpudWxsLCJwdXIiOiJibG9iX2lkIn19--d43ee613629bddf78bc41c1479c2acb2ec6ef34e/RPi_PiPico_Digital_v10.pdf)\n",
    "- [MicroPython API](http://docs.micropython.org/en/latest/rp2/quickref.html)\n"
   ]
  }
 ],
 "metadata": {
  "kernelspec": {
   "display_name": "Python 3.9.12 ('base')",
   "language": "python",
   "name": "python3"
  },
  "language_info": {
   "codemirror_mode": {
    "name": "ipython",
    "version": 3
   },
   "file_extension": ".py",
   "mimetype": "text/x-python",
   "name": "python",
   "nbconvert_exporter": "python",
   "pygments_lexer": "ipython3",
   "version": "3.9.12"
  },
  "vscode": {
   "interpreter": {
    "hash": "ae934b383b459ad2cc544e3edebff7839faff24253c7ddf87c79cc68c4751689"
   }
  }
 },
 "nbformat": 4,
 "nbformat_minor": 4
}
